{
 "cells": [
  {
   "cell_type": "code",
   "execution_count": 12,
   "id": "184fe539-d542-4db3-ac07-2c731350f40f",
   "metadata": {},
   "outputs": [],
   "source": [
    "import sys\n",
    "import os\n",
    "import yaml\n",
    "from dataclasses import asdict\n",
    "\n",
    "sys.path.append(\"./CLAP\")\n",
    "current_dir = os.getcwd()"
   ]
  },
  {
   "cell_type": "code",
   "execution_count": 13,
   "id": "25c40607-c105-449d-a08c-362b74734ef6",
   "metadata": {},
   "outputs": [],
   "source": [
    "mo833_nome_do_usuario = \"mo833-2022-matheus\" # Modifique esta variável com o seu usuário de nuvem mo833-..."
   ]
  },
  {
   "cell_type": "code",
   "execution_count": 14,
   "id": "34784318-5769-42e0-9294-ec3e035ebd69",
   "metadata": {},
   "outputs": [],
   "source": [
    "from app.cli.modules.node import get_config_db, get_node_manager\n",
    "from app.cli.modules.role import get_role_manager\n",
    "from app.cli.modules.cluster import get_cluster_config_db, get_cluster_manager\n",
    "from clap.utils import float_time_to_string"
   ]
  },
  {
   "cell_type": "code",
   "execution_count": 15,
   "id": "f7ab1fcf-d57c-42ee-921f-b3bc799a72e6",
   "metadata": {},
   "outputs": [],
   "source": [
    "instance_config_db = get_config_db()\n",
    "cluster_config_db = get_cluster_config_db()\n",
    "node_manager = get_node_manager()\n",
    "role_manager = get_role_manager()\n",
    "cluster_manager = get_cluster_manager()\n",
    "private_path = node_manager.private_path"
   ]
  },
  {
   "cell_type": "code",
   "execution_count": 16,
   "id": "f2a8f01f-58ff-4d0f-93c0-525cf80c1f5c",
   "metadata": {},
   "outputs": [
    {
     "data": {
      "text/plain": [
       "{'provider': {'provider_config_id': 'aws-config-us-east-1',\n",
       "  'region': 'us-east-1',\n",
       "  'access_keyfile': 'ec2_access_key.pub',\n",
       "  'secret_access_keyfile': 'ec2_access_key.pem',\n",
       "  'vpc': None,\n",
       "  'url': None,\n",
       "  'provider': 'aws'},\n",
       " 'login': {'login_config_id': 'login-ubuntu',\n",
       "  'user': 'ubuntu',\n",
       "  'keypair_name': 'mo833-matheus-lindino',\n",
       "  'keypair_public_file': 'key.pub',\n",
       "  'keypair_private_file': 'key.pem',\n",
       "  'ssh_port': 22,\n",
       "  'sudo': True,\n",
       "  'sudo_user': 'root'},\n",
       " 'instance': {'instance_config_id': 'type-t2.medium',\n",
       "  'provider': 'aws-config-us-east-1',\n",
       "  'login': 'login-ubuntu',\n",
       "  'flavor': 't2.medium',\n",
       "  'image_id': 'ami-0c4f7023847b90238',\n",
       "  'security_group': 'open-security-group',\n",
       "  'boot_disk_size': 16,\n",
       "  'boot_disk_device': None,\n",
       "  'boot_disk_type': None,\n",
       "  'boot_disk_iops': None,\n",
       "  'boot_disk_snapshot': None,\n",
       "  'placement_group': None,\n",
       "  'price': None,\n",
       "  'timeout': None,\n",
       "  'network_ids': []}}"
      ]
     },
     "execution_count": 16,
     "metadata": {},
     "output_type": "execute_result"
    }
   ],
   "source": [
    "t2_medium_type = instance_config_db.instance_descriptors[\"type-t2.medium\"]\n",
    "asdict(t2_medium_type)"
   ]
  },
  {
   "cell_type": "code",
   "execution_count": 17,
   "id": "2d627dc2-3ea9-42a5-b104-a27c4bfb01b8",
   "metadata": {},
   "outputs": [
    {
     "name": "stdout",
     "output_type": "stream",
     "text": [
      "\u001b[1;35m[WARNING]: provided hosts list is empty, only localhost is available. Note that\u001b[0m\n",
      "\u001b[1;35mthe implicit localhost does not match 'all'\u001b[0m\n",
      "\u001b[0;35m[DEPRECATION WARNING]: amazon.aws.ec2 has been deprecated. The ec2 module is \u001b[0m\n",
      "\u001b[0;35mbased upon a deprecated version of the AWS SDKs and is deprecated in favor of \u001b[0m\n",
      "\u001b[0;35mthe ec2_instance module. Please update your tasks. This feature will be removed\u001b[0m\n",
      "\u001b[0;35m from amazon.aws in version 4.0.0. Deprecation warnings can be disabled by \u001b[0m\n",
      "\u001b[0;35msetting deprecation_warnings=False in ansible.cfg.\u001b[0m\n",
      "\n",
      "PLAY [localhost] ***************************************************************\n",
      "\n",
      "TASK [Starting 2 type-t2.medium instances (timeout 600 seconds)] ***************\n",
      "\u001b[0;35mdeprecation_warnings=False in ansible.cfg.\u001b[0m\n",
      "\u001b[0;33mchanged: [localhost]\u001b[0m\n",
      "\n",
      "PLAY RECAP *********************************************************************\n",
      "\u001b[0;33mlocalhost\u001b[0m                  : \u001b[0;32mok=1   \u001b[0m \u001b[0;33mchanged=1   \u001b[0m unreachable=0    failed=0    skipped=0    rescued=0    ignored=0   \n",
      "\u001b[1;35m[WARNING]: provided hosts list is empty, only localhost is available. Note that\u001b[0m\n",
      "\u001b[1;35mthe implicit localhost does not match 'all'\u001b[0m\n",
      "\n",
      "PLAY [localhost] ***************************************************************\n",
      "\n",
      "TASK [Tagging instances] *******************************************************\n",
      "\u001b[0;33mchanged: [localhost] => (item={'id': 'i-083ed7c1e101d717c', 'name': 'AnneRaymond-8fd30b25'})\u001b[0m\n",
      "\u001b[0;33mchanged: [localhost] => (item={'id': 'i-0a8b0055f79998119', 'name': 'SherriKelly-c1dafb55'})\u001b[0m\n",
      "\n",
      "PLAY RECAP *********************************************************************\n",
      "\u001b[0;33mlocalhost\u001b[0m                  : \u001b[0;32mok=1   \u001b[0m \u001b[0;33mchanged=1   \u001b[0m unreachable=0    failed=0    skipped=0    rescued=0    ignored=0   \n",
      "Nodes 8fd30b25f00c4338ba4971f4b6d32eb6, c1dafb5565964930a78c03206b83adc8 were started!\n"
     ]
    }
   ],
   "source": [
    "node_ids = node_manager.start_node(t2_medium_type, count=2)\n",
    "print(f\"Nodes {', '.join(node_ids)} were started!\")"
   ]
  },
  {
   "cell_type": "code",
   "execution_count": 18,
   "id": "f4c10776-09d9-4873-b1be-c731fdd7e54f",
   "metadata": {},
   "outputs": [
    {
     "name": "stderr",
     "output_type": "stream",
     "text": [
      "Error executing command in node c1dafb55: [Errno None] Unable to connect to port 22 on 3.83.239.108\n",
      "Error executing command in c1dafb55: [Errno None] Unable to connect to port 22 on 3.83.239.108.\n"
     ]
    },
    {
     "name": "stdout",
     "output_type": "stream",
     "text": [
      "8fd30b25f00c4338ba4971f4b6d32eb6 --> alive.\n",
      "c1dafb5565964930a78c03206b83adc8 --> alive.\n"
     ]
    }
   ],
   "source": [
    "alive_nodes = node_manager.is_alive(node_ids)\n",
    "for node_id, alive_flag in alive_nodes.items():\n",
    "    alive_str = 'alive' if alive_flag == True else 'not alive'\n",
    "    print(f\"{node_id} --> {alive_str}.\")"
   ]
  },
  {
   "cell_type": "code",
   "execution_count": 19,
   "id": "47048308-820f-4861-9dd9-8f37ebd7c30e",
   "metadata": {},
   "outputs": [
    {
     "name": "stdout",
     "output_type": "stream",
     "text": [
      "\n",
      "PLAY [Acao de setup] ***********************************************************\n",
      "\n",
      "TASK [Gathering Facts] *********************************************************\n",
      "\u001b[0;32mok: [c1dafb5565964930a78c03206b83adc8]\u001b[0m\n",
      "\u001b[0;32mok: [8fd30b25f00c4338ba4971f4b6d32eb6]\u001b[0m\n",
      "\n",
      "TASK [Task 1: Lista as variáveis recebidas] ************************************\n",
      "\u001b[0;32mok: [8fd30b25f00c4338ba4971f4b6d32eb6] => {\u001b[0m\n",
      "\u001b[0;32m    \"msg\": \"Variaveis: efs_host: 172.31.15.9; efs_mount_point: /home/ubuntu/efs/; user_dir: /home/ubuntu/efs/mo833-2022-matheus/\"\u001b[0m\n",
      "\u001b[0;32m}\u001b[0m\n",
      "\u001b[0;32mok: [c1dafb5565964930a78c03206b83adc8] => {\u001b[0m\n",
      "\u001b[0;32m    \"msg\": \"Variaveis: efs_host: 172.31.15.9; efs_mount_point: /home/ubuntu/efs/; user_dir: /home/ubuntu/efs/mo833-2022-matheus/\"\u001b[0m\n",
      "\u001b[0;32m}\u001b[0m\n",
      "\n",
      "TASK [Task 2: Instala dependencias] ********************************************\n",
      "\u001b[0;33mchanged: [c1dafb5565964930a78c03206b83adc8]\u001b[0m\n",
      "\u001b[0;33mchanged: [8fd30b25f00c4338ba4971f4b6d32eb6]\u001b[0m\n",
      "\n",
      "TASK [Task 3: Cria o grupo docker] *********************************************\n",
      "\u001b[0;32mok: [8fd30b25f00c4338ba4971f4b6d32eb6]\u001b[0m\n",
      "\u001b[0;32mok: [c1dafb5565964930a78c03206b83adc8]\u001b[0m\n",
      "\n",
      "TASK [Task 4: Adicionar usuario ubuntu ao grupo docker] ************************\n",
      "\u001b[0;33mchanged: [c1dafb5565964930a78c03206b83adc8]\u001b[0m\n",
      "\u001b[0;33mchanged: [8fd30b25f00c4338ba4971f4b6d32eb6]\u001b[0m\n",
      "\n",
      "TASK [Task 5: Reinicia a conexão ssh para que a alterações de grupos tenham efeito] ***\n",
      "\n",
      "TASK [Task 5: Reinicia a conexão ssh para que a alterações de grupos tenham efeito] ***\n",
      "\n",
      "TASK [Task 6: Monta o EFS] *****************************************************\n",
      "\u001b[0;33mchanged: [c1dafb5565964930a78c03206b83adc8]\u001b[0m\n",
      "\u001b[0;33mchanged: [8fd30b25f00c4338ba4971f4b6d32eb6]\u001b[0m\n",
      "\n",
      "TASK [Task 9: Build imagem] ****************************************************\n",
      "\u001b[1;30mASYNC POLL on 8fd30b25f00c4338ba4971f4b6d32eb6: jid=759053432264.4675 started=1 finished=0\u001b[0m\n",
      "\u001b[1;30mASYNC POLL on c1dafb5565964930a78c03206b83adc8: jid=699737319308.4667 started=1 finished=0\u001b[0m\n",
      "\u001b[1;30mASYNC POLL on c1dafb5565964930a78c03206b83adc8: jid=699737319308.4667 started=1 finished=0\u001b[0m\n",
      "\u001b[1;30mASYNC POLL on 8fd30b25f00c4338ba4971f4b6d32eb6: jid=759053432264.4675 started=1 finished=0\u001b[0m\n",
      "\u001b[1;30mASYNC POLL on c1dafb5565964930a78c03206b83adc8: jid=699737319308.4667 started=1 finished=0\u001b[0m\n",
      "\u001b[1;30mASYNC POLL on 8fd30b25f00c4338ba4971f4b6d32eb6: jid=759053432264.4675 started=1 finished=0\u001b[0m\n",
      "\u001b[1;30mASYNC POLL on c1dafb5565964930a78c03206b83adc8: jid=699737319308.4667 started=1 finished=0\u001b[0m\n",
      "\u001b[1;30mASYNC POLL on 8fd30b25f00c4338ba4971f4b6d32eb6: jid=759053432264.4675 started=1 finished=0\u001b[0m\n",
      "\u001b[1;30mASYNC POLL on c1dafb5565964930a78c03206b83adc8: jid=699737319308.4667 started=1 finished=0\u001b[0m\n",
      "\u001b[1;30mASYNC POLL on 8fd30b25f00c4338ba4971f4b6d32eb6: jid=759053432264.4675 started=1 finished=0\u001b[0m\n",
      "\u001b[1;30mASYNC POLL on c1dafb5565964930a78c03206b83adc8: jid=699737319308.4667 started=1 finished=0\u001b[0m\n",
      "\u001b[1;30mASYNC POLL on 8fd30b25f00c4338ba4971f4b6d32eb6: jid=759053432264.4675 started=1 finished=0\u001b[0m\n",
      "\u001b[1;30mASYNC OK on c1dafb5565964930a78c03206b83adc8: jid=699737319308.4667\u001b[0m\n",
      "\u001b[0;33mchanged: [c1dafb5565964930a78c03206b83adc8]\u001b[0m\n",
      "\u001b[1;30mASYNC OK on 8fd30b25f00c4338ba4971f4b6d32eb6: jid=759053432264.4675\u001b[0m\n",
      "\u001b[0;33mchanged: [8fd30b25f00c4338ba4971f4b6d32eb6]\u001b[0m\n",
      "\n",
      "PLAY RECAP *********************************************************************\n",
      "\u001b[0;33m8fd30b25f00c4338ba4971f4b6d32eb6\u001b[0m : \u001b[0;32mok=7   \u001b[0m \u001b[0;33mchanged=4   \u001b[0m unreachable=0    failed=0    skipped=0    rescued=0    ignored=0   \n",
      "\u001b[0;33mc1dafb5565964930a78c03206b83adc8\u001b[0m : \u001b[0;32mok=7   \u001b[0m \u001b[0;33mchanged=4   \u001b[0m unreachable=0    failed=0    skipped=0    rescued=0    ignored=0   \n",
      "O papel dcgan foram adicionados aos nós 8fd30b25f00c4338ba4971f4b6d32eb6, c1dafb5565964930a78c03206b83adc8\n"
     ]
    }
   ],
   "source": [
    "# Variaveis espeficica por nó\n",
    "node_vars={\n",
    "    node_ids[0]: {\n",
    "        \"node_rank\": 0\n",
    "    }, \n",
    "    node_ids[1]: {\n",
    "        \"node_rank\": 1\n",
    "    }\n",
    "}\n",
    "\n",
    "# Variaveis passadas para a ação setup\n",
    "extra_args = {\n",
    "    \"efs_host\": \"172.31.15.9\",\n",
    "    \"efs_mount_point\": \"/home/ubuntu/efs/\",\n",
    "    \"user_dir\": f\"/home/ubuntu/efs/{mo833_nome_do_usuario}/\"\n",
    "}\n",
    "\n",
    "\n",
    "nodes_added_to_role = role_manager.add_role(\n",
    "    role_name=\"dcgan\", \n",
    "    hosts_node_map=node_ids,\n",
    "    node_vars=node_vars,\n",
    "    extra_args=extra_args,\n",
    ")\n",
    "\n",
    "print(f\"O papel dcgan foram adicionados aos nós {', '.join(nodes_added_to_role)}\")"
   ]
  },
  {
   "cell_type": "code",
   "execution_count": 20,
   "id": "9daef887-b868-4822-9162-0e05cd7f13e3",
   "metadata": {},
   "outputs": [
    {
     "name": "stdout",
     "output_type": "stream",
     "text": [
      "\n",
      "PLAY [Run Play] ****************************************************************\n",
      "\n",
      "TASK [Task 1: Lista as variáveis recebidas] ************************************\n",
      "\u001b[0;32mok: [8fd30b25f00c4338ba4971f4b6d32eb6] => {\u001b[0m\n",
      "\u001b[0;32m    \"msg\": \"Variaveis: efs_mount_point: /home/ubuntu/efs/; user_dir: /home/ubuntu/efs/mo833-2022-matheus/; cifar_data_dir: /home/ubuntu/efs/data/cifar10/; master_hostname: 8fd30b25f00c4338ba4971f4b6d32eb6; results_dir: /home/ubuntu/efs/mo833-2022-matheus/Distributed-DCGAN/resultados/;\"\u001b[0m\n",
      "\u001b[0;32m}\u001b[0m\n",
      "\u001b[0;32mok: [c1dafb5565964930a78c03206b83adc8] => {\u001b[0m\n",
      "\u001b[0;32m    \"msg\": \"Variaveis: efs_mount_point: /home/ubuntu/efs/; user_dir: /home/ubuntu/efs/mo833-2022-matheus/; cifar_data_dir: /home/ubuntu/efs/data/cifar10/; master_hostname: 8fd30b25f00c4338ba4971f4b6d32eb6; results_dir: /home/ubuntu/efs/mo833-2022-matheus/Distributed-DCGAN/resultados/;\"\u001b[0m\n",
      "\u001b[0;32m}\u001b[0m\n",
      "\n",
      "TASK [Task 2: Criar diretório de resultados] ***********************************\n",
      "\u001b[0;32mok: [8fd30b25f00c4338ba4971f4b6d32eb6]\u001b[0m\n",
      "\n",
      "TASK [Task 3: Executar a DCGAN] ************************************************\n",
      "\u001b[1;30mASYNC POLL on c1dafb5565964930a78c03206b83adc8: jid=275519041997.8785 started=1 finished=0\u001b[0m\n",
      "\u001b[1;30mASYNC POLL on 8fd30b25f00c4338ba4971f4b6d32eb6: jid=973869330172.8838 started=1 finished=0\u001b[0m\n",
      "\u001b[1;30mASYNC POLL on 8fd30b25f00c4338ba4971f4b6d32eb6: jid=973869330172.8838 started=1 finished=0\u001b[0m\n",
      "\u001b[1;30mASYNC POLL on c1dafb5565964930a78c03206b83adc8: jid=275519041997.8785 started=1 finished=0\u001b[0m\n",
      "\u001b[1;30mASYNC POLL on 8fd30b25f00c4338ba4971f4b6d32eb6: jid=973869330172.8838 started=1 finished=0\u001b[0m\n",
      "\u001b[1;30mASYNC POLL on c1dafb5565964930a78c03206b83adc8: jid=275519041997.8785 started=1 finished=0\u001b[0m\n",
      "\u001b[1;30mASYNC POLL on c1dafb5565964930a78c03206b83adc8: jid=275519041997.8785 started=1 finished=0\u001b[0m\n",
      "\u001b[1;30mASYNC POLL on 8fd30b25f00c4338ba4971f4b6d32eb6: jid=973869330172.8838 started=1 finished=0\u001b[0m\n",
      "\u001b[1;30mASYNC POLL on c1dafb5565964930a78c03206b83adc8: jid=275519041997.8785 started=1 finished=0\u001b[0m\n",
      "\u001b[1;30mASYNC POLL on 8fd30b25f00c4338ba4971f4b6d32eb6: jid=973869330172.8838 started=1 finished=0\u001b[0m\n",
      "\u001b[1;30mASYNC POLL on c1dafb5565964930a78c03206b83adc8: jid=275519041997.8785 started=1 finished=0\u001b[0m\n",
      "\u001b[1;30mASYNC POLL on 8fd30b25f00c4338ba4971f4b6d32eb6: jid=973869330172.8838 started=1 finished=0\u001b[0m\n",
      "\u001b[1;30mASYNC POLL on c1dafb5565964930a78c03206b83adc8: jid=275519041997.8785 started=1 finished=0\u001b[0m\n",
      "\u001b[1;30mASYNC POLL on 8fd30b25f00c4338ba4971f4b6d32eb6: jid=973869330172.8838 started=1 finished=0\u001b[0m\n",
      "\u001b[1;30mASYNC POLL on c1dafb5565964930a78c03206b83adc8: jid=275519041997.8785 started=1 finished=0\u001b[0m\n",
      "\u001b[1;30mASYNC POLL on 8fd30b25f00c4338ba4971f4b6d32eb6: jid=973869330172.8838 started=1 finished=0\u001b[0m\n",
      "\u001b[1;30mASYNC POLL on c1dafb5565964930a78c03206b83adc8: jid=275519041997.8785 started=1 finished=0\u001b[0m\n",
      "\u001b[1;30mASYNC POLL on 8fd30b25f00c4338ba4971f4b6d32eb6: jid=973869330172.8838 started=1 finished=0\u001b[0m\n",
      "\u001b[1;30mASYNC POLL on c1dafb5565964930a78c03206b83adc8: jid=275519041997.8785 started=1 finished=0\u001b[0m\n",
      "\u001b[1;30mASYNC POLL on 8fd30b25f00c4338ba4971f4b6d32eb6: jid=973869330172.8838 started=1 finished=0\u001b[0m\n",
      "\u001b[1;30mASYNC POLL on 8fd30b25f00c4338ba4971f4b6d32eb6: jid=973869330172.8838 started=1 finished=0\u001b[0m\n",
      "\u001b[1;30mASYNC POLL on c1dafb5565964930a78c03206b83adc8: jid=275519041997.8785 started=1 finished=0\u001b[0m\n",
      "\u001b[1;30mASYNC POLL on 8fd30b25f00c4338ba4971f4b6d32eb6: jid=973869330172.8838 started=1 finished=0\u001b[0m\n",
      "\u001b[1;30mASYNC POLL on c1dafb5565964930a78c03206b83adc8: jid=275519041997.8785 started=1 finished=0\u001b[0m\n",
      "\u001b[1;30mASYNC POLL on 8fd30b25f00c4338ba4971f4b6d32eb6: jid=973869330172.8838 started=1 finished=0\u001b[0m\n",
      "\u001b[1;30mASYNC POLL on c1dafb5565964930a78c03206b83adc8: jid=275519041997.8785 started=1 finished=0\u001b[0m\n",
      "\u001b[1;30mASYNC POLL on 8fd30b25f00c4338ba4971f4b6d32eb6: jid=973869330172.8838 started=1 finished=0\u001b[0m\n",
      "\u001b[1;30mASYNC POLL on c1dafb5565964930a78c03206b83adc8: jid=275519041997.8785 started=1 finished=0\u001b[0m\n",
      "\u001b[1;30mASYNC POLL on 8fd30b25f00c4338ba4971f4b6d32eb6: jid=973869330172.8838 started=1 finished=0\u001b[0m\n",
      "\u001b[1;30mASYNC POLL on c1dafb5565964930a78c03206b83adc8: jid=275519041997.8785 started=1 finished=0\u001b[0m\n",
      "\u001b[1;30mASYNC POLL on 8fd30b25f00c4338ba4971f4b6d32eb6: jid=973869330172.8838 started=1 finished=0\u001b[0m\n",
      "\u001b[1;30mASYNC POLL on c1dafb5565964930a78c03206b83adc8: jid=275519041997.8785 started=1 finished=0\u001b[0m\n",
      "\u001b[1;30mASYNC POLL on 8fd30b25f00c4338ba4971f4b6d32eb6: jid=973869330172.8838 started=1 finished=0\u001b[0m\n",
      "\u001b[1;30mASYNC POLL on c1dafb5565964930a78c03206b83adc8: jid=275519041997.8785 started=1 finished=0\u001b[0m\n",
      "\u001b[1;30mASYNC POLL on 8fd30b25f00c4338ba4971f4b6d32eb6: jid=973869330172.8838 started=1 finished=0\u001b[0m\n",
      "\u001b[1;30mASYNC POLL on c1dafb5565964930a78c03206b83adc8: jid=275519041997.8785 started=1 finished=0\u001b[0m\n",
      "\u001b[1;30mASYNC POLL on 8fd30b25f00c4338ba4971f4b6d32eb6: jid=973869330172.8838 started=1 finished=0\u001b[0m\n",
      "\u001b[1;30mASYNC POLL on c1dafb5565964930a78c03206b83adc8: jid=275519041997.8785 started=1 finished=0\u001b[0m\n",
      "\u001b[1;30mASYNC POLL on 8fd30b25f00c4338ba4971f4b6d32eb6: jid=973869330172.8838 started=1 finished=0\u001b[0m\n",
      "\u001b[1;30mASYNC POLL on c1dafb5565964930a78c03206b83adc8: jid=275519041997.8785 started=1 finished=0\u001b[0m\n",
      "\u001b[1;30mASYNC POLL on 8fd30b25f00c4338ba4971f4b6d32eb6: jid=973869330172.8838 started=1 finished=0\u001b[0m\n",
      "\u001b[1;30mASYNC POLL on c1dafb5565964930a78c03206b83adc8: jid=275519041997.8785 started=1 finished=0\u001b[0m\n",
      "\u001b[1;30mASYNC OK on 8fd30b25f00c4338ba4971f4b6d32eb6: jid=973869330172.8838\u001b[0m\n",
      "\u001b[0;33mchanged: [8fd30b25f00c4338ba4971f4b6d32eb6]\u001b[0m\n",
      "\u001b[1;30mASYNC OK on c1dafb5565964930a78c03206b83adc8: jid=275519041997.8785\u001b[0m\n",
      "\u001b[0;33mchanged: [c1dafb5565964930a78c03206b83adc8]\u001b[0m\n",
      "\n",
      "PLAY RECAP *********************************************************************\n",
      "\u001b[0;33m8fd30b25f00c4338ba4971f4b6d32eb6\u001b[0m : \u001b[0;32mok=3   \u001b[0m \u001b[0;33mchanged=1   \u001b[0m unreachable=0    failed=0    skipped=0    rescued=0    ignored=0   \n",
      "\u001b[0;33mc1dafb5565964930a78c03206b83adc8\u001b[0m : \u001b[0;32mok=2   \u001b[0m \u001b[0;33mchanged=1   \u001b[0m unreachable=0    failed=0    skipped=0    rescued=0    ignored=0   \n",
      "Playbook executou bem? True\n"
     ]
    }
   ],
   "source": [
    "# Variaveis espeficica por nó\n",
    "node_vars={\n",
    "    node_ids[0]: {\n",
    "        \"node_rank\": 0\n",
    "    }, \n",
    "    node_ids[1]: {\n",
    "        \"node_rank\": 1\n",
    "    }\n",
    "}\n",
    "\n",
    "# Variaveis passadas para a ação setup\n",
    "extra_args = {\n",
    "    \"efs_mount_point\": \"/home/ubuntu/efs/\",\n",
    "    \"user_dir\": f\"/home/ubuntu/efs/{mo833_nome_do_usuario}/\",\n",
    "    \"cifar_data_dir\": \"/home/ubuntu/efs/data/cifar10/\",\n",
    "    \"master_hostname\": node_ids[0],\n",
    "    \"results_dir\": f\"/home/ubuntu/efs/{mo833_nome_do_usuario}/Distributed-DCGAN/resultados/\",\n",
    "}\n",
    "\n",
    "res = role_manager.perform_action(\n",
    "    role_name=\"dcgan\", \n",
    "    action_name=\"run\", \n",
    "    hosts_node_map=node_ids, \n",
    "    node_vars=node_vars,\n",
    "    extra_args=extra_args\n",
    ")\n",
    "\n",
    "print(f\"Playbook executou bem? {res.ok}\")"
   ]
  },
  {
   "cell_type": "code",
   "execution_count": 21,
   "id": "8aa0a0dc-df7c-4447-a5db-6c7356441e47",
   "metadata": {},
   "outputs": [
    {
     "name": "stdout",
     "output_type": "stream",
     "text": [
      "\n",
      "PLAY [Acao de resultados] ******************************************************\n",
      "\n",
      "TASK [Gathering Facts] *********************************************************\n",
      "\u001b[0;32mok: [c1dafb5565964930a78c03206b83adc8]\u001b[0m\n",
      "\u001b[0;32mok: [8fd30b25f00c4338ba4971f4b6d32eb6]\u001b[0m\n",
      "\n",
      "TASK [Task 1: Lista as variáveis recebidas] ************************************\n",
      "\u001b[0;32mok: [8fd30b25f00c4338ba4971f4b6d32eb6] => {\u001b[0m\n",
      "\u001b[0;32m    \"msg\": \"Variaveis: results_dir: /home/lindino/mo833-atividade9/resultados; user_dir: /home/ubuntu/efs/mo833-2022-matheus/; results_remote: /home/ubuntu/efs/mo833-2022-matheus/Distributed-DCGAN/resultados/\"\u001b[0m\n",
      "\u001b[0;32m}\u001b[0m\n",
      "\u001b[0;32mok: [c1dafb5565964930a78c03206b83adc8] => {\u001b[0m\n",
      "\u001b[0;32m    \"msg\": \"Variaveis: results_dir: /home/lindino/mo833-atividade9/resultados; user_dir: /home/ubuntu/efs/mo833-2022-matheus/; results_remote: /home/ubuntu/efs/mo833-2022-matheus/Distributed-DCGAN/resultados/\"\u001b[0m\n",
      "\u001b[0;32m}\u001b[0m\n",
      "\n",
      "TASK [Task 2: Copia os arquivos output-*.txt] **********************************\n",
      "\u001b[0;33mchanged: [c1dafb5565964930a78c03206b83adc8]\u001b[0m\n",
      "\u001b[0;33mchanged: [8fd30b25f00c4338ba4971f4b6d32eb6]\u001b[0m\n",
      "\n",
      "PLAY RECAP *********************************************************************\n",
      "\u001b[0;33m8fd30b25f00c4338ba4971f4b6d32eb6\u001b[0m : \u001b[0;32mok=3   \u001b[0m \u001b[0;33mchanged=1   \u001b[0m unreachable=0    failed=0    skipped=0    rescued=0    ignored=0   \n",
      "\u001b[0;33mc1dafb5565964930a78c03206b83adc8\u001b[0m : \u001b[0;32mok=3   \u001b[0m \u001b[0;33mchanged=1   \u001b[0m unreachable=0    failed=0    skipped=0    rescued=0    ignored=0   \n",
      "Playbook executou bem? True\n"
     ]
    }
   ],
   "source": [
    "# Variaveis espeficica por nó\n",
    "node_vars={\n",
    "    node_ids[0]: {\n",
    "        \"node_rank\": 0\n",
    "    }, \n",
    "    node_ids[1]: {\n",
    "        \"node_rank\": 1\n",
    "    }\n",
    "}\n",
    "\n",
    "# Variaveis passadas para a ação setup\n",
    "extra_args = {\n",
    "    \"user_dir\": f\"/home/ubuntu/efs/{mo833_nome_do_usuario}/\",\n",
    "    \"results_dir\": f\"{current_dir}/resultados\",\n",
    "    \"results_remote\": f\"/home/ubuntu/efs/{mo833_nome_do_usuario}/Distributed-DCGAN/resultados/\"\n",
    "}\n",
    "\n",
    "\n",
    "res = role_manager.perform_action(\n",
    "    role_name=\"dcgan\", \n",
    "    action_name=\"results\", \n",
    "    hosts_node_map=node_ids, \n",
    "    node_vars=node_vars,\n",
    "    extra_args=extra_args,\n",
    "    quiet=False\n",
    ")\n",
    "\n",
    "print(f\"Playbook executou bem? {res.ok}\")"
   ]
  },
  {
   "cell_type": "code",
   "execution_count": 22,
   "id": "f98bd376-66a5-4016-a9d4-04e0eabd768f",
   "metadata": {},
   "outputs": [
    {
     "name": "stdout",
     "output_type": "stream",
     "text": [
      "\u001b[1;35m[WARNING]: provided hosts list is empty, only localhost is available. Note that\u001b[0m\n",
      "\u001b[1;35mthe implicit localhost does not match 'all'\u001b[0m\n",
      "\u001b[0;35m[DEPRECATION WARNING]: amazon.aws.ec2 has been deprecated. The ec2 module is \u001b[0m\n",
      "\u001b[0;35mbased upon a deprecated version of the AWS SDKs and is deprecated in favor of \u001b[0m\n",
      "\u001b[0;35mthe ec2_instance module. Please update your tasks. This feature will be removed\u001b[0m\n",
      "\u001b[0;35m from amazon.aws in version 4.0.0. Deprecation warnings can be disabled by \u001b[0m\n",
      "\u001b[0;35msetting deprecation_warnings=False in ansible.cfg.\u001b[0m\n",
      "\n",
      "PLAY [localhost] ***************************************************************\n",
      "\n",
      "TASK [Stopping nodes AnneRaymond, SherriKelly] *********************************\n",
      "\u001b[0;35m[DEPRECATION WARNING]: The 'ec2' module has been deprecated and replaced by the\u001b[0m\n",
      "\u001b[0;35m 'ec2_instance' module'. This feature will be removed from amazon.aws in \u001b[0m\n",
      "\u001b[0;35mversion 4.0.0. Deprecation warnings can be disabled by setting \u001b[0m\n",
      "\u001b[0;35mdeprecation_warnings=False in ansible.cfg.\u001b[0m\n",
      "\u001b[0;33mchanged: [localhost]\u001b[0m\n",
      "\n",
      "PLAY RECAP *********************************************************************\n",
      "\u001b[0;33mlocalhost\u001b[0m                  : \u001b[0;32mok=1   \u001b[0m \u001b[0;33mchanged=1   \u001b[0m unreachable=0    failed=0    skipped=0    rescued=0    ignored=0   \n",
      "Stopped nodes: 8fd30b25f00c4338ba4971f4b6d32eb6, c1dafb5565964930a78c03206b83adc8\n"
     ]
    }
   ],
   "source": [
    "stopped_nodes = node_manager.stop_nodes(node_ids)\n",
    "print(f\"Stopped nodes: {', '.join(stopped_nodes)}\")"
   ]
  }
 ],
 "metadata": {
  "kernelspec": {
   "display_name": "Python 3 (ipykernel)",
   "language": "python",
   "name": "python3"
  },
  "language_info": {
   "codemirror_mode": {
    "name": "ipython",
    "version": 3
   },
   "file_extension": ".py",
   "mimetype": "text/x-python",
   "name": "python",
   "nbconvert_exporter": "python",
   "pygments_lexer": "ipython3",
   "version": "3.9.13"
  }
 },
 "nbformat": 4,
 "nbformat_minor": 5
}
